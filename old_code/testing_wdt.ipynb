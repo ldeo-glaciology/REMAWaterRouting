{
 "cells": [
  {
   "cell_type": "code",
   "execution_count": 1,
   "metadata": {},
   "outputs": [],
   "source": [
    "import numpy as np\n",
    "from matplotlib import pyplot as plt\n",
    "import math\n",
    "import scipy.ndimage"
   ]
  },
  {
   "cell_type": "code",
   "execution_count": 2,
   "metadata": {},
   "outputs": [],
   "source": [
    "import heapq\n",
    "from imageio import imread\n",
    "\n",
    "\n",
    "DIR_STRINGS = [\"left\", \"down\", \"right\", \"up\"]\n",
    "DIRS = ((-1, 0), (0, -1), (1, 0), (0, 1))\n",
    "\n",
    "def map_image_to_costs(D, PreSillPixel):\n",
    "    \"\"\"\n",
    "    Read image data and convert it to a marginal cost function,\n",
    "    a 2D array containing costs for moving through each pixel.\n",
    "    This cost field forms the input for the weighted distance transform\n",
    "    zero costs denote exits, infinite costs denote fully impenetrable obstacles.\n",
    "    In this example, we follow Mercurial standards: obstacles are in black, exits in green,\n",
    "    accessible space is in white, less accessible space has less white.\n",
    "    Adapt to your own needs.\n",
    "    :param image: String of image file or open file descriptor of image\n",
    "    :return: 2D array representing the cost field\n",
    "    \"\"\"\n",
    "    \n",
    "    G = (D-np.min(D))/(np.max(D)-np.min(D))**-1\n",
    "    if len(PreSillPixel)>0:\n",
    "        for pair in PreSillPixel:\n",
    "            PSPx = int(pair[0])\n",
    "            PSPy = int(pair[1])\n",
    "\n",
    "        #R = abs(D)*255/np.max(abs(D))\n",
    "\n",
    "        G[PSPx,PSPy] = 1\n",
    "        #B = abs(D)*255/np.max(abs(D)\n",
    "    \n",
    "    data = G*256\n",
    "    # Exits are present in all green enough places (\"G >> R and G\")\n",
    "    exits = np.where(data >= 255 )\n",
    "    # Obstacles are in black (so at least G and B must be zero)\n",
    "    obstacles = np.where(data < 1)\n",
    "    # Convert image to greyscale\n",
    "    grey_scales = data\n",
    "    # Boolean index array for places without exits and obstacles\n",
    "    space = np.ones(grey_scales.shape, dtype=np.bool)\n",
    "    space[obstacles] = False\n",
    "    space[exits] = False\n",
    "    # Cost field: Inversely proportional to greyscale values\n",
    "    cost_field = np.empty(data.shape)\n",
    "    cost_field[obstacles] = np.inf\n",
    "    cost_field[exits] = 0\n",
    "    cost_field[space] = 1. / (grey_scales[space])\n",
    "    return cost_field\n",
    "\n",
    "def _wdt_python(cost_field):\n",
    "    \"\"\"\n",
    "    See `get_weighted_distance_transform`\n",
    "    :param cost_field: 2D array\n",
    "    :return: Weighted distance transform array with same shape as `cost_field`\n",
    "    \"\"\"\n",
    "    nx, ny = cost_field.shape\n",
    "    # Cost for moving along horizontal lines\n",
    "    costs_x = np.ones([nx + 1, ny], order='F') * np.inf\n",
    "    costs_x[1:-1, :] = (cost_field[1:, :] + cost_field[:-1, :]) / 2\n",
    "    # Cost for moving along vertical lines\n",
    "    costs_y = np.ones([nx, ny + 1], order='F') * np.inf\n",
    "    costs_y[:, 1:-1] = (cost_field[:, 1:] + cost_field[:, :-1]) / 2\n",
    "\n",
    "    # Initialize locations (known/unknown/exit/obstacle)\n",
    "    weighted_distance_transform = np.ones_like(cost_field, order='F') * np.inf\n",
    "    exit_locs = np.where(cost_field == 0)\n",
    "    obstacle_locs = np.where(cost_field == np.inf)\n",
    "    weighted_distance_transform[exit_locs] = 0\n",
    "\n",
    "    # Initialize Cell structures\n",
    "    all_cells = {(i, j) for i in range(nx) for j in range(ny)}\n",
    "    known_cells = {cell for cell in zip(exit_locs[0], exit_locs[1])}\n",
    "    unknown_cells = all_cells - known_cells - {cell for cell in zip(obstacle_locs[0], obstacle_locs[1])}\n",
    "    new_candidate_cells = set()\n",
    "    for cell in known_cells:\n",
    "        new_candidate_cells |= _get_new_candidate_cells(cell, unknown_cells)\n",
    "    cand_heap = [(np.inf, cell) for cell in new_candidate_cells]\n",
    "    # Loop until all unknown cells have a distance value\n",
    "    if len(cand_heap)>0:\n",
    "        while True:\n",
    "            # by repeatedly looping over the new candidate cells\n",
    "            for cell in new_candidate_cells:\n",
    "                # Compute a distance for each cell based on its neighbour cells\n",
    "                distance = _propagate_distance(cell, [costs_x, costs_y], weighted_distance_transform)\n",
    "                # Store this value in the heap (for fast lookup)\n",
    "                # Don't check whether we have the distance already in the heap; check on outcome\n",
    "                heapq.heappush(cand_heap, (distance, cell))\n",
    "            # See if the heap contains a good value and if so, add it to the field. If not, finish.\n",
    "            # Since we can store multiple distance values for one cell, we might need to pop a couple of times\n",
    "            while True:\n",
    "                min_distance, best_cell = heapq.heappop(cand_heap)\n",
    "                if weighted_distance_transform[best_cell] == np.inf:\n",
    "                    # Got a good one: no assigned distance in wdt yet\n",
    "                    break\n",
    "                elif min_distance == np.inf:  # No more finite values; done\n",
    "                    return weighted_distance_transform\n",
    "            # Good value found, add to the wdt and\n",
    "            weighted_distance_transform[best_cell] = min_distance\n",
    "            unknown_cells.remove(best_cell)\n",
    "            new_candidate_cells = _get_new_candidate_cells(best_cell, unknown_cells)\n",
    "    else:\n",
    "        weighted_distance_transform = scipy.ndimage.distance_transform_edt(cost_field)+1\n",
    "        return weighted_distance_transform\n",
    "    \"\"\"\n",
    "    Checks whether an index exists an array\n",
    "    :param index: 2D index tuple\n",
    "    :return: true if lower than tuple, false otherwise\n",
    "    \"\"\"\n",
    "    return (0 <= index[0] < nx) and (0 <= index[1] < ny)\n",
    "def _exists(index, nx, ny):\n",
    "    \"\"\"\n",
    "    Checks whether an index exists an array\n",
    "    :param index: 2D index tuple\n",
    "    :return: true if lower than tuple, false otherwise\n",
    "    \"\"\"\n",
    "    return (0 <= index[0] < nx) and (0 <= index[1] < ny)\n",
    "\n",
    "\n",
    "def _get_new_candidate_cells(cell, unknown_cells):\n",
    "    \"\"\"\n",
    "    Compute the new candidate cells (cells for which we have no definite distance value yet\n",
    "    For more information on the algorithm: check fast marching method\n",
    "    :param cell: tuple of index; a new cell that has been added to the distance field\n",
    "    :param unknown_cells: set of tuples; all cells still unknown\n",
    "    :return: Set of new candidate cells for which to compute the distance\n",
    "    \"\"\"\n",
    "    new_candidate_cells = set()\n",
    "    for direction in DIRS:\n",
    "        nb_cell = (cell[0] + direction[0], cell[1] + direction[1])\n",
    "        if nb_cell in unknown_cells:\n",
    "            new_candidate_cells.add(nb_cell)\n",
    "    return new_candidate_cells\n",
    "\n",
    "\n",
    "def _propagate_distance(cell, costs, wdt_field):\n",
    "    \"\"\"\n",
    "    Compute the weighted distance in a cell using costs and distances in other cells\n",
    "    :param cell: tuple, index of a candidate cell\n",
    "    :param costs: list of cost arrays in X and Y direction\n",
    "    :param wdt_field: the weighted distance transform field up until now\n",
    "    :return: a approximate distance based on the neighbour cells\n",
    "    \"\"\"\n",
    "    nx, ny = wdt_field.shape\n",
    "    # Find the minimal directions along a grid cell.\n",
    "    # Assume left and below are best, then overwrite with right and up if they are better\n",
    "    adjacent_distances = np.ones(4) * np.inf\n",
    "    pots_from_axis = [0, 0]  # [x direction, y direction]\n",
    "    costs_from_axis = [np.inf, np.inf]  #\n",
    "    for i, dir_s in enumerate(DIR_STRINGS):\n",
    "        # Direction for which we check the cost\n",
    "        normal = DIRS[i]\n",
    "        nb_cell = (cell[0] + normal[0], cell[1] + normal[1])\n",
    "        if not _exists(nb_cell, nx, ny):\n",
    "            continue\n",
    "        pot = wdt_field[nb_cell]\n",
    "        # distance in that neighbour field\n",
    "        if dir_s == 'left':\n",
    "            face_index = (nb_cell[0] + 1, nb_cell[1])\n",
    "        elif dir_s == 'down':\n",
    "            face_index = (nb_cell[0], nb_cell[1] + 1)\n",
    "        else:\n",
    "            face_index = nb_cell\n",
    "        # Left/right is x, up/down is y\n",
    "        cost = costs[i % 2][face_index]\n",
    "        # Proposed cost along this direction\n",
    "        adjacent_distances[i] = pot + cost\n",
    "        # If it is cheaper to go from the opposite direction\n",
    "        if adjacent_distances[i] < adjacent_distances[(i + 2) % 4]:\n",
    "            pots_from_axis[i % 2] = pot\n",
    "            costs_from_axis[i % 2] = cost\n",
    "        hor_pot, ver_pot = pots_from_axis\n",
    "        hor_cost, ver_cost = costs_from_axis\n",
    "        # Coefficients of quadratic equation (upwind discretization)\n",
    "    a = 1. / hor_cost ** 2 + 1. / ver_cost ** 2\n",
    "    b = -2 * (hor_pot / hor_cost ** 2 + ver_pot / ver_cost ** 2)\n",
    "    c = (hor_pot / hor_cost) ** 2 + (ver_pot / ver_cost) ** 2 - 1\n",
    "\n",
    "    D = b ** 2 - 4 * a * c\n",
    "    # Largest root represents upwind approximation\n",
    "    x_high = (2 * c) / (-b - math.sqrt(D+0.001)) #edited to prevent divide by zero errors\n",
    "    return x_high\n"
   ]
  },
  {
   "cell_type": "code",
   "execution_count": 3,
   "metadata": {},
   "outputs": [],
   "source": [
    "test_surf = 1/3*np.ones((300,300))"
   ]
  },
  {
   "cell_type": "code",
   "execution_count": 4,
   "metadata": {},
   "outputs": [],
   "source": [
    "test_surf[100:130,0:300] = 1/10\n",
    "test_surf[299,299]=0"
   ]
  },
  {
   "cell_type": "code",
   "execution_count": 5,
   "metadata": {},
   "outputs": [],
   "source": [
    "PreSillPixel = [[200,200]]"
   ]
  },
  {
   "cell_type": "code",
   "execution_count": 6,
   "metadata": {},
   "outputs": [],
   "source": [
    "cost_field  = map_image_to_costs(test_surf,PreSillPixel)"
   ]
  },
  {
   "cell_type": "code",
   "execution_count": 7,
   "metadata": {},
   "outputs": [
    {
     "data": {
      "text/plain": [
       "<matplotlib.colorbar.Colorbar at 0x7f9ded3654d0>"
      ]
     },
     "execution_count": 7,
     "metadata": {},
     "output_type": "execute_result"
    },
    {
     "data": {
      "image/png": "[encoded data removed]",
      "text/plain": [
       "<Figure size 432x288 with 2 Axes>"
      ]
     },
     "metadata": {
      "needs_background": "light"
     },
     "output_type": "display_data"
    }
   ],
   "source": [
    "plt.imshow(cost_field)\n",
    "plt.colorbar()"
   ]
  },
  {
   "cell_type": "code",
   "execution_count": 8,
   "metadata": {},
   "outputs": [],
   "source": [
    "wdt = _wdt_python(cost_field)\n"
   ]
  },
  {
   "cell_type": "code",
   "execution_count": 9,
   "metadata": {},
   "outputs": [
    {
     "data": {
      "text/plain": [
       "<matplotlib.colorbar.Colorbar at 0x7f9deaa51990>"
      ]
     },
     "execution_count": 9,
     "metadata": {},
     "output_type": "execute_result"
    },
    {
     "data": {
      "image/png": "[encoded data removed]",
      "text/plain": [
       "<Figure size 720x720 with 2 Axes>"
      ]
     },
     "metadata": {
      "needs_background": "light"
     },
     "output_type": "display_data"
    }
   ],
   "source": [
    "plt.figure(figsize=(10,10))\n",
    "plt.imshow(wdt*100, cmap='Greys_r')\n",
    "plt.colorbar()"
   ]
  },
  {
   "cell_type": "code",
   "execution_count": null,
   "metadata": {},
   "outputs": [],
   "source": []
  }
 ],
 "metadata": {
  "kernelspec": {
   "display_name": "Python 3",
   "language": "python",
   "name": "python3"
  },
  "language_info": {
   "codemirror_mode": {
    "name": "ipython",
    "version": 3
   },
   "file_extension": ".py",
   "mimetype": "text/x-python",
   "name": "python",
   "nbconvert_exporter": "python",
   "pygments_lexer": "ipython3",
   "version": "3.7.6"
  }
 },
 "nbformat": 4,
 "nbformat_minor": 4
}
