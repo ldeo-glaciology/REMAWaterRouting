{
 "cells": [
  {
   "cell_type": "markdown",
   "metadata": {},
   "source": [
    "### This code imports Landsat 8 images from AWS server"
   ]
  },
  {
   "cell_type": "code",
   "execution_count": 3,
   "metadata": {},
   "outputs": [
    {
     "ename": "ModuleNotFoundError",
     "evalue": "No module named 'ipympl'",
     "output_type": "error",
     "traceback": [
      "\u001b[0;31m---------------------------------------------------------------------------\u001b[0m",
      "\u001b[0;31mModuleNotFoundError\u001b[0m                       Traceback (most recent call last)",
      "\u001b[0;32m<ipython-input-3-1f0344a03981>\u001b[0m in \u001b[0;36m<module>\u001b[0;34m\u001b[0m\n\u001b[1;32m      7\u001b[0m \u001b[0;32mimport\u001b[0m \u001b[0mscipy\u001b[0m\u001b[0;34m.\u001b[0m\u001b[0mndimage\u001b[0m\u001b[0;34m\u001b[0m\u001b[0;34m\u001b[0m\u001b[0m\n\u001b[1;32m      8\u001b[0m \u001b[0;32mfrom\u001b[0m \u001b[0mmatplotlib\u001b[0m \u001b[0;32mimport\u001b[0m \u001b[0mpyplot\u001b[0m \u001b[0;32mas\u001b[0m \u001b[0mplt\u001b[0m\u001b[0;34m\u001b[0m\u001b[0;34m\u001b[0m\u001b[0m\n\u001b[0;32m----> 9\u001b[0;31m \u001b[0mget_ipython\u001b[0m\u001b[0;34m(\u001b[0m\u001b[0;34m)\u001b[0m\u001b[0;34m.\u001b[0m\u001b[0mrun_line_magic\u001b[0m\u001b[0;34m(\u001b[0m\u001b[0;34m'matplotlib'\u001b[0m\u001b[0;34m,\u001b[0m \u001b[0;34m'widget'\u001b[0m\u001b[0;34m)\u001b[0m\u001b[0;34m\u001b[0m\u001b[0;34m\u001b[0m\u001b[0m\n\u001b[0m",
      "\u001b[0;32m/srv/conda/envs/notebook/lib/python3.7/site-packages/IPython/core/interactiveshell.py\u001b[0m in \u001b[0;36mrun_line_magic\u001b[0;34m(self, magic_name, line, _stack_depth)\u001b[0m\n\u001b[1;32m   2315\u001b[0m                 \u001b[0mkwargs\u001b[0m\u001b[0;34m[\u001b[0m\u001b[0;34m'local_ns'\u001b[0m\u001b[0;34m]\u001b[0m \u001b[0;34m=\u001b[0m \u001b[0msys\u001b[0m\u001b[0;34m.\u001b[0m\u001b[0m_getframe\u001b[0m\u001b[0;34m(\u001b[0m\u001b[0mstack_depth\u001b[0m\u001b[0;34m)\u001b[0m\u001b[0;34m.\u001b[0m\u001b[0mf_locals\u001b[0m\u001b[0;34m\u001b[0m\u001b[0;34m\u001b[0m\u001b[0m\n\u001b[1;32m   2316\u001b[0m             \u001b[0;32mwith\u001b[0m \u001b[0mself\u001b[0m\u001b[0;34m.\u001b[0m\u001b[0mbuiltin_trap\u001b[0m\u001b[0;34m:\u001b[0m\u001b[0;34m\u001b[0m\u001b[0;34m\u001b[0m\u001b[0m\n\u001b[0;32m-> 2317\u001b[0;31m                 \u001b[0mresult\u001b[0m \u001b[0;34m=\u001b[0m \u001b[0mfn\u001b[0m\u001b[0;34m(\u001b[0m\u001b[0;34m*\u001b[0m\u001b[0margs\u001b[0m\u001b[0;34m,\u001b[0m \u001b[0;34m**\u001b[0m\u001b[0mkwargs\u001b[0m\u001b[0;34m)\u001b[0m\u001b[0;34m\u001b[0m\u001b[0;34m\u001b[0m\u001b[0m\n\u001b[0m\u001b[1;32m   2318\u001b[0m             \u001b[0;32mreturn\u001b[0m \u001b[0mresult\u001b[0m\u001b[0;34m\u001b[0m\u001b[0;34m\u001b[0m\u001b[0m\n\u001b[1;32m   2319\u001b[0m \u001b[0;34m\u001b[0m\u001b[0m\n",
      "\u001b[0;32m</srv/conda/envs/notebook/lib/python3.7/site-packages/decorator.py:decorator-gen-108>\u001b[0m in \u001b[0;36mmatplotlib\u001b[0;34m(self, line)\u001b[0m\n",
      "\u001b[0;32m/srv/conda/envs/notebook/lib/python3.7/site-packages/IPython/core/magic.py\u001b[0m in \u001b[0;36m<lambda>\u001b[0;34m(f, *a, **k)\u001b[0m\n\u001b[1;32m    185\u001b[0m     \u001b[0;31m# but it's overkill for just that one bit of state.\u001b[0m\u001b[0;34m\u001b[0m\u001b[0;34m\u001b[0m\u001b[0;34m\u001b[0m\u001b[0m\n\u001b[1;32m    186\u001b[0m     \u001b[0;32mdef\u001b[0m \u001b[0mmagic_deco\u001b[0m\u001b[0;34m(\u001b[0m\u001b[0marg\u001b[0m\u001b[0;34m)\u001b[0m\u001b[0;34m:\u001b[0m\u001b[0;34m\u001b[0m\u001b[0;34m\u001b[0m\u001b[0m\n\u001b[0;32m--> 187\u001b[0;31m         \u001b[0mcall\u001b[0m \u001b[0;34m=\u001b[0m \u001b[0;32mlambda\u001b[0m \u001b[0mf\u001b[0m\u001b[0;34m,\u001b[0m \u001b[0;34m*\u001b[0m\u001b[0ma\u001b[0m\u001b[0;34m,\u001b[0m \u001b[0;34m**\u001b[0m\u001b[0mk\u001b[0m\u001b[0;34m:\u001b[0m \u001b[0mf\u001b[0m\u001b[0;34m(\u001b[0m\u001b[0;34m*\u001b[0m\u001b[0ma\u001b[0m\u001b[0;34m,\u001b[0m \u001b[0;34m**\u001b[0m\u001b[0mk\u001b[0m\u001b[0;34m)\u001b[0m\u001b[0;34m\u001b[0m\u001b[0;34m\u001b[0m\u001b[0m\n\u001b[0m\u001b[1;32m    188\u001b[0m \u001b[0;34m\u001b[0m\u001b[0m\n\u001b[1;32m    189\u001b[0m         \u001b[0;32mif\u001b[0m \u001b[0mcallable\u001b[0m\u001b[0;34m(\u001b[0m\u001b[0marg\u001b[0m\u001b[0;34m)\u001b[0m\u001b[0;34m:\u001b[0m\u001b[0;34m\u001b[0m\u001b[0;34m\u001b[0m\u001b[0m\n",
      "\u001b[0;32m/srv/conda/envs/notebook/lib/python3.7/site-packages/IPython/core/magics/pylab.py\u001b[0m in \u001b[0;36mmatplotlib\u001b[0;34m(self, line)\u001b[0m\n\u001b[1;32m     97\u001b[0m             \u001b[0mprint\u001b[0m\u001b[0;34m(\u001b[0m\u001b[0;34m\"Available matplotlib backends: %s\"\u001b[0m \u001b[0;34m%\u001b[0m \u001b[0mbackends_list\u001b[0m\u001b[0;34m)\u001b[0m\u001b[0;34m\u001b[0m\u001b[0;34m\u001b[0m\u001b[0m\n\u001b[1;32m     98\u001b[0m         \u001b[0;32melse\u001b[0m\u001b[0;34m:\u001b[0m\u001b[0;34m\u001b[0m\u001b[0;34m\u001b[0m\u001b[0m\n\u001b[0;32m---> 99\u001b[0;31m             \u001b[0mgui\u001b[0m\u001b[0;34m,\u001b[0m \u001b[0mbackend\u001b[0m \u001b[0;34m=\u001b[0m \u001b[0mself\u001b[0m\u001b[0;34m.\u001b[0m\u001b[0mshell\u001b[0m\u001b[0;34m.\u001b[0m\u001b[0menable_matplotlib\u001b[0m\u001b[0;34m(\u001b[0m\u001b[0margs\u001b[0m\u001b[0;34m.\u001b[0m\u001b[0mgui\u001b[0m\u001b[0;34m.\u001b[0m\u001b[0mlower\u001b[0m\u001b[0;34m(\u001b[0m\u001b[0;34m)\u001b[0m \u001b[0;32mif\u001b[0m \u001b[0misinstance\u001b[0m\u001b[0;34m(\u001b[0m\u001b[0margs\u001b[0m\u001b[0;34m.\u001b[0m\u001b[0mgui\u001b[0m\u001b[0;34m,\u001b[0m \u001b[0mstr\u001b[0m\u001b[0;34m)\u001b[0m \u001b[0;32melse\u001b[0m \u001b[0margs\u001b[0m\u001b[0;34m.\u001b[0m\u001b[0mgui\u001b[0m\u001b[0;34m)\u001b[0m\u001b[0;34m\u001b[0m\u001b[0;34m\u001b[0m\u001b[0m\n\u001b[0m\u001b[1;32m    100\u001b[0m             \u001b[0mself\u001b[0m\u001b[0;34m.\u001b[0m\u001b[0m_show_matplotlib_backend\u001b[0m\u001b[0;34m(\u001b[0m\u001b[0margs\u001b[0m\u001b[0;34m.\u001b[0m\u001b[0mgui\u001b[0m\u001b[0;34m,\u001b[0m \u001b[0mbackend\u001b[0m\u001b[0;34m)\u001b[0m\u001b[0;34m\u001b[0m\u001b[0;34m\u001b[0m\u001b[0m\n\u001b[1;32m    101\u001b[0m \u001b[0;34m\u001b[0m\u001b[0m\n",
      "\u001b[0;32m/srv/conda/envs/notebook/lib/python3.7/site-packages/IPython/core/interactiveshell.py\u001b[0m in \u001b[0;36menable_matplotlib\u001b[0;34m(self, gui)\u001b[0m\n\u001b[1;32m   3417\u001b[0m                 \u001b[0mgui\u001b[0m\u001b[0;34m,\u001b[0m \u001b[0mbackend\u001b[0m \u001b[0;34m=\u001b[0m \u001b[0mpt\u001b[0m\u001b[0;34m.\u001b[0m\u001b[0mfind_gui_and_backend\u001b[0m\u001b[0;34m(\u001b[0m\u001b[0mself\u001b[0m\u001b[0;34m.\u001b[0m\u001b[0mpylab_gui_select\u001b[0m\u001b[0;34m)\u001b[0m\u001b[0;34m\u001b[0m\u001b[0;34m\u001b[0m\u001b[0m\n\u001b[1;32m   3418\u001b[0m \u001b[0;34m\u001b[0m\u001b[0m\n\u001b[0;32m-> 3419\u001b[0;31m         \u001b[0mpt\u001b[0m\u001b[0;34m.\u001b[0m\u001b[0mactivate_matplotlib\u001b[0m\u001b[0;34m(\u001b[0m\u001b[0mbackend\u001b[0m\u001b[0;34m)\u001b[0m\u001b[0;34m\u001b[0m\u001b[0;34m\u001b[0m\u001b[0m\n\u001b[0m\u001b[1;32m   3420\u001b[0m         \u001b[0mpt\u001b[0m\u001b[0;34m.\u001b[0m\u001b[0mconfigure_inline_support\u001b[0m\u001b[0;34m(\u001b[0m\u001b[0mself\u001b[0m\u001b[0;34m,\u001b[0m \u001b[0mbackend\u001b[0m\u001b[0;34m)\u001b[0m\u001b[0;34m\u001b[0m\u001b[0;34m\u001b[0m\u001b[0m\n\u001b[1;32m   3421\u001b[0m \u001b[0;34m\u001b[0m\u001b[0m\n",
      "\u001b[0;32m/srv/conda/envs/notebook/lib/python3.7/site-packages/IPython/core/pylabtools.py\u001b[0m in \u001b[0;36mactivate_matplotlib\u001b[0;34m(backend)\u001b[0m\n\u001b[1;32m    320\u001b[0m     \u001b[0;32mfrom\u001b[0m \u001b[0mmatplotlib\u001b[0m \u001b[0;32mimport\u001b[0m \u001b[0mpyplot\u001b[0m \u001b[0;32mas\u001b[0m \u001b[0mplt\u001b[0m\u001b[0;34m\u001b[0m\u001b[0;34m\u001b[0m\u001b[0m\n\u001b[1;32m    321\u001b[0m \u001b[0;34m\u001b[0m\u001b[0m\n\u001b[0;32m--> 322\u001b[0;31m     \u001b[0mplt\u001b[0m\u001b[0;34m.\u001b[0m\u001b[0mswitch_backend\u001b[0m\u001b[0;34m(\u001b[0m\u001b[0mbackend\u001b[0m\u001b[0;34m)\u001b[0m\u001b[0;34m\u001b[0m\u001b[0;34m\u001b[0m\u001b[0m\n\u001b[0m\u001b[1;32m    323\u001b[0m \u001b[0;34m\u001b[0m\u001b[0m\n\u001b[1;32m    324\u001b[0m     \u001b[0mplt\u001b[0m\u001b[0;34m.\u001b[0m\u001b[0mshow\u001b[0m\u001b[0;34m.\u001b[0m\u001b[0m_needmain\u001b[0m \u001b[0;34m=\u001b[0m \u001b[0;32mFalse\u001b[0m\u001b[0;34m\u001b[0m\u001b[0;34m\u001b[0m\u001b[0m\n",
      "\u001b[0;32m/srv/conda/envs/notebook/lib/python3.7/site-packages/matplotlib/pyplot.py\u001b[0m in \u001b[0;36mswitch_backend\u001b[0;34m(newbackend)\u001b[0m\n\u001b[1;32m    219\u001b[0m         else \"matplotlib.backends.backend_{}\".format(newbackend.lower()))\n\u001b[1;32m    220\u001b[0m \u001b[0;34m\u001b[0m\u001b[0m\n\u001b[0;32m--> 221\u001b[0;31m     \u001b[0mbackend_mod\u001b[0m \u001b[0;34m=\u001b[0m \u001b[0mimportlib\u001b[0m\u001b[0;34m.\u001b[0m\u001b[0mimport_module\u001b[0m\u001b[0;34m(\u001b[0m\u001b[0mbackend_name\u001b[0m\u001b[0;34m)\u001b[0m\u001b[0;34m\u001b[0m\u001b[0;34m\u001b[0m\u001b[0m\n\u001b[0m\u001b[1;32m    222\u001b[0m     Backend = type(\n\u001b[1;32m    223\u001b[0m         \"Backend\", (matplotlib.backends._Backend,), vars(backend_mod))\n",
      "\u001b[0;32m/srv/conda/envs/notebook/lib/python3.7/importlib/__init__.py\u001b[0m in \u001b[0;36mimport_module\u001b[0;34m(name, package)\u001b[0m\n\u001b[1;32m    125\u001b[0m                 \u001b[0;32mbreak\u001b[0m\u001b[0;34m\u001b[0m\u001b[0;34m\u001b[0m\u001b[0m\n\u001b[1;32m    126\u001b[0m             \u001b[0mlevel\u001b[0m \u001b[0;34m+=\u001b[0m \u001b[0;36m1\u001b[0m\u001b[0;34m\u001b[0m\u001b[0;34m\u001b[0m\u001b[0m\n\u001b[0;32m--> 127\u001b[0;31m     \u001b[0;32mreturn\u001b[0m \u001b[0m_bootstrap\u001b[0m\u001b[0;34m.\u001b[0m\u001b[0m_gcd_import\u001b[0m\u001b[0;34m(\u001b[0m\u001b[0mname\u001b[0m\u001b[0;34m[\u001b[0m\u001b[0mlevel\u001b[0m\u001b[0;34m:\u001b[0m\u001b[0;34m]\u001b[0m\u001b[0;34m,\u001b[0m \u001b[0mpackage\u001b[0m\u001b[0;34m,\u001b[0m \u001b[0mlevel\u001b[0m\u001b[0;34m)\u001b[0m\u001b[0;34m\u001b[0m\u001b[0;34m\u001b[0m\u001b[0m\n\u001b[0m\u001b[1;32m    128\u001b[0m \u001b[0;34m\u001b[0m\u001b[0m\n\u001b[1;32m    129\u001b[0m \u001b[0;34m\u001b[0m\u001b[0m\n",
      "\u001b[0;32m/srv/conda/envs/notebook/lib/python3.7/importlib/_bootstrap.py\u001b[0m in \u001b[0;36m_gcd_import\u001b[0;34m(name, package, level)\u001b[0m\n",
      "\u001b[0;32m/srv/conda/envs/notebook/lib/python3.7/importlib/_bootstrap.py\u001b[0m in \u001b[0;36m_find_and_load\u001b[0;34m(name, import_)\u001b[0m\n",
      "\u001b[0;32m/srv/conda/envs/notebook/lib/python3.7/importlib/_bootstrap.py\u001b[0m in \u001b[0;36m_find_and_load_unlocked\u001b[0;34m(name, import_)\u001b[0m\n",
      "\u001b[0;32m/srv/conda/envs/notebook/lib/python3.7/importlib/_bootstrap.py\u001b[0m in \u001b[0;36m_call_with_frames_removed\u001b[0;34m(f, *args, **kwds)\u001b[0m\n",
      "\u001b[0;32m/srv/conda/envs/notebook/lib/python3.7/importlib/_bootstrap.py\u001b[0m in \u001b[0;36m_gcd_import\u001b[0;34m(name, package, level)\u001b[0m\n",
      "\u001b[0;32m/srv/conda/envs/notebook/lib/python3.7/importlib/_bootstrap.py\u001b[0m in \u001b[0;36m_find_and_load\u001b[0;34m(name, import_)\u001b[0m\n",
      "\u001b[0;32m/srv/conda/envs/notebook/lib/python3.7/importlib/_bootstrap.py\u001b[0m in \u001b[0;36m_find_and_load_unlocked\u001b[0;34m(name, import_)\u001b[0m\n",
      "\u001b[0;31mModuleNotFoundError\u001b[0m: No module named 'ipympl'"
     ]
    }
   ],
   "source": [
    "import pandas as pd\n",
    "import geopandas as gpd\n",
    "import os, shutil\n",
    "from glob import glob\n",
    "import numpy as np\n",
    "import xarray as xr\n",
    "import scipy.ndimage\n",
    "from matplotlib import pyplot as plt\n",
    "%matplotlib widget"
   ]
  },
  {
   "cell_type": "code",
   "execution_count": 2,
   "metadata": {},
   "outputs": [],
   "source": [
    "import shapely\n",
    "import datetime"
   ]
  },
  {
   "cell_type": "markdown",
   "metadata": {},
   "source": [
    "Set path for images:"
   ]
  },
  {
   "cell_type": "code",
   "execution_count": 1,
   "metadata": {},
   "outputs": [
    {
     "name": "stdout",
     "output_type": "stream",
     "text": [
      "/home/jovyan\n"
     ]
    }
   ],
   "source": [
    "cd"
   ]
  },
  {
   "cell_type": "code",
   "execution_count": 2,
   "metadata": {},
   "outputs": [
    {
     "ename": "NameError",
     "evalue": "name 'os' is not defined",
     "output_type": "error",
     "traceback": [
      "\u001b[0;31m---------------------------------------------------------------------------\u001b[0m",
      "\u001b[0;31mNameError\u001b[0m                                 Traceback (most recent call last)",
      "\u001b[0;32m<ipython-input-2-233980ddf6f5>\u001b[0m in \u001b[0;36m<module>\u001b[0;34m\u001b[0m\n\u001b[1;32m      1\u001b[0m \u001b[0mWRS_PATH\u001b[0m \u001b[0;34m=\u001b[0m \u001b[0;34m'./L8_data/external/Landsat8/WRS2_descending_0.zip'\u001b[0m\u001b[0;34m\u001b[0m\u001b[0;34m\u001b[0m\u001b[0m\n\u001b[0;32m----> 2\u001b[0;31m \u001b[0mLANDSAT_PATH\u001b[0m \u001b[0;34m=\u001b[0m \u001b[0mos\u001b[0m\u001b[0;34m.\u001b[0m\u001b[0mpath\u001b[0m\u001b[0;34m.\u001b[0m\u001b[0mdirname\u001b[0m\u001b[0;34m(\u001b[0m\u001b[0mWRS_PATH\u001b[0m\u001b[0;34m)\u001b[0m\u001b[0;34m\u001b[0m\u001b[0;34m\u001b[0m\u001b[0m\n\u001b[0m",
      "\u001b[0;31mNameError\u001b[0m: name 'os' is not defined"
     ]
    }
   ],
   "source": [
    "WRS_PATH = './L8_data/external/Landsat8/WRS2_descending_0.zip'\n",
    "LANDSAT_PATH = os.path.dirname(WRS_PATH)"
   ]
  },
  {
   "cell_type": "markdown",
   "metadata": {},
   "source": [
    "Only neeeds to be done once: import the geometry csv for Landsat 8 row and path boundaries"
   ]
  },
  {
   "cell_type": "markdown",
   "metadata": {
    "jupyter": {
     "outputs_hidden": true
    }
   },
   "source": [
    "\n",
    "!wget -P {LANDSAT_PATH} https://prd-wret.s3.us-west-2.amazonaws.com/assets/palladium/production/s3fs-public/atoms/files/WRS2_descending_0.zip\n",
    "\n"
   ]
  },
  {
   "cell_type": "code",
   "execution_count": 5,
   "metadata": {},
   "outputs": [],
   "source": [
    "shutil.unpack_archive(WRS_PATH, os.path.join(LANDSAT_PATH, 'wrs2')) "
   ]
  },
  {
   "cell_type": "markdown",
   "metadata": {},
   "source": [
    "Convert the data into a geopandas dataset:"
   ]
  },
  {
   "cell_type": "code",
   "execution_count": 6,
   "metadata": {},
   "outputs": [],
   "source": [
    "wrs = gpd.GeoDataFrame.from_file('L8_data/external/Landsat8/wrs2/WRS2_descending.shp')"
   ]
  },
  {
   "cell_type": "markdown",
   "metadata": {},
   "source": [
    "Import the grounding lines for Antarctic iceshelves from https://nsidc.org/data/nsidc-0709:"
   ]
  },
  {
   "cell_type": "code",
   "execution_count": 7,
   "metadata": {},
   "outputs": [],
   "source": [
    "ice_shelves = gpd.read_file('REMAWaterRouting/IceShelf_Antarctica_v02/IceShelf_Antarctica_v02.shp')"
   ]
  },
  {
   "cell_type": "code",
   "execution_count": 8,
   "metadata": {},
   "outputs": [],
   "source": [
    "amery = ice_shelves[ice_shelves['NAME']=='Amery'] #Here we select the Amery ice shelf"
   ]
  },
  {
   "cell_type": "code",
   "execution_count": 9,
   "metadata": {},
   "outputs": [],
   "source": [
    "amery = amery.to_crs('EPSG:4326')\n"
   ]
  },
  {
   "cell_type": "markdown",
   "metadata": {},
   "source": [
    "Using the intersects function, we find what row/path overlaps with our area of interest:"
   ]
  },
  {
   "cell_type": "code",
   "execution_count": 10,
   "metadata": {},
   "outputs": [],
   "source": [
    "wrs_intersection  = wrs[wrs.intersects(shapely.geometry.Polygon.from_bounds(float(amery.bounds.minx),\n",
    "                                                    float(amery.bounds.miny),float(amery.bounds.maxx),float(amery.bounds.maxy)))]"
   ]
  },
  {
   "cell_type": "code",
   "execution_count": 11,
   "metadata": {},
   "outputs": [],
   "source": [
    "paths, rows = wrs_intersection['PATH'].values, wrs_intersection['ROW'].values"
   ]
  },
  {
   "cell_type": "code",
   "execution_count": 12,
   "metadata": {},
   "outputs": [
    {
     "data": {
      "text/plain": [
       "array([125, 125, 125, 125, 132, 132, 132, 123, 123, 123, 130, 130, 130,\n",
       "       130, 121, 128, 128, 128, 128, 128, 126, 126, 126, 126, 126, 133,\n",
       "       133, 124, 124, 124, 131, 131, 131, 122, 122, 129, 129, 129, 129,\n",
       "       129, 127, 127, 127, 127, 127])"
      ]
     },
     "execution_count": 12,
     "metadata": {},
     "output_type": "execute_result"
    }
   ],
   "source": [
    "paths"
   ]
  },
  {
   "cell_type": "code",
   "execution_count": 5,
   "metadata": {},
   "outputs": [],
   "source": [
    "#Import the list of available imagery on the amazon aws server:\n",
    "s3_scenes = pd.read_csv('http://landsat-pds.s3.amazonaws.com/c1/L8/scene_list.gz', compression='gzip')\n"
   ]
  },
  {
   "cell_type": "code",
   "execution_count": 14,
   "metadata": {},
   "outputs": [
    {
     "data": {
      "text/html": [
       "<div>\n",
       "<style scoped>\n",
       "    .dataframe tbody tr th:only-of-type {\n",
       "        vertical-align: middle;\n",
       "    }\n",
       "\n",
       "    .dataframe tbody tr th {\n",
       "        vertical-align: top;\n",
       "    }\n",
       "\n",
       "    .dataframe thead th {\n",
       "        text-align: right;\n",
       "    }\n",
       "</style>\n",
       "<table border=\"1\" class=\"dataframe\">\n",
       "  <thead>\n",
       "    <tr style=\"text-align: right;\">\n",
       "      <th></th>\n",
       "      <th>productId</th>\n",
       "      <th>entityId</th>\n",
       "      <th>acquisitionDate</th>\n",
       "      <th>cloudCover</th>\n",
       "      <th>processingLevel</th>\n",
       "      <th>path</th>\n",
       "      <th>row</th>\n",
       "      <th>min_lat</th>\n",
       "      <th>min_lon</th>\n",
       "      <th>max_lat</th>\n",
       "      <th>max_lon</th>\n",
       "      <th>download_url</th>\n",
       "    </tr>\n",
       "  </thead>\n",
       "  <tbody>\n",
       "    <tr>\n",
       "      <th>0</th>\n",
       "      <td>LC08_L1TP_149039_20170411_20170415_01_T1</td>\n",
       "      <td>LC81490392017101LGN00</td>\n",
       "      <td>2017-04-11 05:36:29.349932</td>\n",
       "      <td>0.00</td>\n",
       "      <td>L1TP</td>\n",
       "      <td>149</td>\n",
       "      <td>39</td>\n",
       "      <td>29.22165</td>\n",
       "      <td>72.41205</td>\n",
       "      <td>31.34742</td>\n",
       "      <td>74.84666</td>\n",
       "      <td>https://s3-us-west-2.amazonaws.com/landsat-pds...</td>\n",
       "    </tr>\n",
       "    <tr>\n",
       "      <th>1</th>\n",
       "      <td>LC08_L1TP_012001_20170411_20170415_01_T1</td>\n",
       "      <td>LC80120012017101LGN00</td>\n",
       "      <td>2017-04-11 15:14:40.001201</td>\n",
       "      <td>0.15</td>\n",
       "      <td>L1TP</td>\n",
       "      <td>12</td>\n",
       "      <td>1</td>\n",
       "      <td>79.51504</td>\n",
       "      <td>-22.06995</td>\n",
       "      <td>81.90314</td>\n",
       "      <td>-7.44339</td>\n",
       "      <td>https://s3-us-west-2.amazonaws.com/landsat-pds...</td>\n",
       "    </tr>\n",
       "    <tr>\n",
       "      <th>2</th>\n",
       "      <td>LC08_L1TP_012002_20170411_20170415_01_T1</td>\n",
       "      <td>LC80120022017101LGN00</td>\n",
       "      <td>2017-04-11 15:15:03.871058</td>\n",
       "      <td>0.38</td>\n",
       "      <td>L1TP</td>\n",
       "      <td>12</td>\n",
       "      <td>2</td>\n",
       "      <td>78.74882</td>\n",
       "      <td>-29.24387</td>\n",
       "      <td>81.14549</td>\n",
       "      <td>-15.04330</td>\n",
       "      <td>https://s3-us-west-2.amazonaws.com/landsat-pds...</td>\n",
       "    </tr>\n",
       "  </tbody>\n",
       "</table>\n",
       "</div>"
      ],
      "text/plain": [
       "                                  productId               entityId  \\\n",
       "0  LC08_L1TP_149039_20170411_20170415_01_T1  LC81490392017101LGN00   \n",
       "1  LC08_L1TP_012001_20170411_20170415_01_T1  LC80120012017101LGN00   \n",
       "2  LC08_L1TP_012002_20170411_20170415_01_T1  LC80120022017101LGN00   \n",
       "\n",
       "              acquisitionDate  cloudCover processingLevel  path  row  \\\n",
       "0  2017-04-11 05:36:29.349932        0.00            L1TP   149   39   \n",
       "1  2017-04-11 15:14:40.001201        0.15            L1TP    12    1   \n",
       "2  2017-04-11 15:15:03.871058        0.38            L1TP    12    2   \n",
       "\n",
       "    min_lat   min_lon   max_lat   max_lon  \\\n",
       "0  29.22165  72.41205  31.34742  74.84666   \n",
       "1  79.51504 -22.06995  81.90314  -7.44339   \n",
       "2  78.74882 -29.24387  81.14549 -15.04330   \n",
       "\n",
       "                                        download_url  \n",
       "0  https://s3-us-west-2.amazonaws.com/landsat-pds...  \n",
       "1  https://s3-us-west-2.amazonaws.com/landsat-pds...  \n",
       "2  https://s3-us-west-2.amazonaws.com/landsat-pds...  "
      ]
     },
     "execution_count": 14,
     "metadata": {},
     "output_type": "execute_result"
    }
   ],
   "source": [
    "s3_scenes.head(3)\n"
   ]
  },
  {
   "cell_type": "code",
   "execution_count": 15,
   "metadata": {},
   "outputs": [],
   "source": [
    "b = (paths > 126) & (paths < 128)\n",
    "paths = paths[b]\n",
    "rows = rows[b]"
   ]
  },
  {
   "cell_type": "code",
   "execution_count": 16,
   "metadata": {},
   "outputs": [
    {
     "name": "stdout",
     "output_type": "stream",
     "text": [
      "Path: 127 Row: 108\n",
      " Found 0 images\n",
      "\n",
      "Path: 127 Row: 109\n",
      " Found 4 images\n",
      "\n",
      "Path: 127 Row: 110\n",
      " Found 5 images\n",
      "\n",
      "Path: 127 Row: 111\n",
      " Found 5 images\n",
      "\n",
      "Path: 127 Row: 112\n",
      " Found 5 images\n",
      "\n"
     ]
    }
   ],
   "source": [
    "# Empty list to add the images\n",
    "bulk_list = []\n",
    "\n",
    "# Iterate through paths and rows\n",
    "for path, row in zip(paths, rows):\n",
    "\n",
    "    print('Path:',path, 'Row:', row)\n",
    "\n",
    "    # Filter the Landsat Amazon S3 table for images matching path, row, cloudcover and processing state.\n",
    "    scenes = s3_scenes[(s3_scenes.path == path) & (s3_scenes.row == row) & \n",
    "                       (s3_scenes.cloudCover <= 5)] #cloud cover less than 5%\n",
    "    scenes = scenes[scenes.acquisitionDate.str.slice(5,7).astype(int)<2] #acquired in January\n",
    "    print(' Found {} images\\n'.format(len(scenes)))\n",
    "\n",
    "    # If any scenes exists, select the one that have the minimum cloudCover.\n",
    "    if len(scenes):\n",
    "        scene = scenes.sort_values('cloudCover').iloc[0]\n",
    "    else:\n",
    "        continue\n",
    "    # Add the selected scene to the bulk download list.\n",
    "    bulk_list.append(scene)"
   ]
  },
  {
   "cell_type": "code",
   "execution_count": 17,
   "metadata": {},
   "outputs": [
    {
     "data": {
      "text/html": [
       "<div>\n",
       "<style scoped>\n",
       "    .dataframe tbody tr th:only-of-type {\n",
       "        vertical-align: middle;\n",
       "    }\n",
       "\n",
       "    .dataframe tbody tr th {\n",
       "        vertical-align: top;\n",
       "    }\n",
       "\n",
       "    .dataframe thead th {\n",
       "        text-align: right;\n",
       "    }\n",
       "</style>\n",
       "<table border=\"1\" class=\"dataframe\">\n",
       "  <thead>\n",
       "    <tr style=\"text-align: right;\">\n",
       "      <th></th>\n",
       "      <th>productId</th>\n",
       "      <th>entityId</th>\n",
       "      <th>acquisitionDate</th>\n",
       "      <th>cloudCover</th>\n",
       "      <th>processingLevel</th>\n",
       "      <th>path</th>\n",
       "      <th>row</th>\n",
       "      <th>min_lat</th>\n",
       "      <th>min_lon</th>\n",
       "      <th>max_lat</th>\n",
       "      <th>max_lon</th>\n",
       "      <th>download_url</th>\n",
       "    </tr>\n",
       "  </thead>\n",
       "  <tbody>\n",
       "    <tr>\n",
       "      <th>349640</th>\n",
       "      <td>LC08_L1GT_127109_20180114_20180114_01_RT</td>\n",
       "      <td>LC81271092018014LGN00</td>\n",
       "      <td>2018-01-14 03:49:00.905936</td>\n",
       "      <td>0</td>\n",
       "      <td>L1GT</td>\n",
       "      <td>127</td>\n",
       "      <td>109</td>\n",
       "      <td>-70.8375</td>\n",
       "      <td>69.5321</td>\n",
       "      <td>-68.9107</td>\n",
       "      <td>76.6728</td>\n",
       "      <td>https://s3-us-west-2.amazonaws.com/landsat-pds...</td>\n",
       "    </tr>\n",
       "    <tr>\n",
       "      <th>349641</th>\n",
       "      <td>LC08_L1GT_127110_20180114_20180114_01_RT</td>\n",
       "      <td>LC81271102018014LGN00</td>\n",
       "      <td>2018-01-14 03:49:24.881695</td>\n",
       "      <td>0</td>\n",
       "      <td>L1GT</td>\n",
       "      <td>127</td>\n",
       "      <td>110</td>\n",
       "      <td>-72.1631</td>\n",
       "      <td>67.3456</td>\n",
       "      <td>-70.2626</td>\n",
       "      <td>75.0568</td>\n",
       "      <td>https://s3-us-west-2.amazonaws.com/landsat-pds...</td>\n",
       "    </tr>\n",
       "    <tr>\n",
       "      <th>1834148</th>\n",
       "      <td>LC08_L1GT_127111_20200120_20200120_01_RT</td>\n",
       "      <td>LC81271112020020LGN00</td>\n",
       "      <td>2020-01-20 03:49:54.470726</td>\n",
       "      <td>0.04</td>\n",
       "      <td>L1GT</td>\n",
       "      <td>127</td>\n",
       "      <td>111</td>\n",
       "      <td>-73.4731</td>\n",
       "      <td>64.8826</td>\n",
       "      <td>-71.5983</td>\n",
       "      <td>73.2477</td>\n",
       "      <td>https://s3-us-west-2.amazonaws.com/landsat-pds...</td>\n",
       "    </tr>\n",
       "    <tr>\n",
       "      <th>1834149</th>\n",
       "      <td>LC08_L1GT_127112_20200120_20200120_01_RT</td>\n",
       "      <td>LC81271122020020LGN00</td>\n",
       "      <td>2020-01-20 03:50:18.442248</td>\n",
       "      <td>0.14</td>\n",
       "      <td>L1GT</td>\n",
       "      <td>127</td>\n",
       "      <td>112</td>\n",
       "      <td>-74.7588</td>\n",
       "      <td>62.0524</td>\n",
       "      <td>-72.9162</td>\n",
       "      <td>71.1638</td>\n",
       "      <td>https://s3-us-west-2.amazonaws.com/landsat-pds...</td>\n",
       "    </tr>\n",
       "  </tbody>\n",
       "</table>\n",
       "</div>"
      ],
      "text/plain": [
       "                                        productId               entityId  \\\n",
       "349640   LC08_L1GT_127109_20180114_20180114_01_RT  LC81271092018014LGN00   \n",
       "349641   LC08_L1GT_127110_20180114_20180114_01_RT  LC81271102018014LGN00   \n",
       "1834148  LC08_L1GT_127111_20200120_20200120_01_RT  LC81271112020020LGN00   \n",
       "1834149  LC08_L1GT_127112_20200120_20200120_01_RT  LC81271122020020LGN00   \n",
       "\n",
       "                    acquisitionDate cloudCover processingLevel path  row  \\\n",
       "349640   2018-01-14 03:49:00.905936          0            L1GT  127  109   \n",
       "349641   2018-01-14 03:49:24.881695          0            L1GT  127  110   \n",
       "1834148  2020-01-20 03:49:54.470726       0.04            L1GT  127  111   \n",
       "1834149  2020-01-20 03:50:18.442248       0.14            L1GT  127  112   \n",
       "\n",
       "         min_lat  min_lon  max_lat  max_lon  \\\n",
       "349640  -70.8375  69.5321 -68.9107  76.6728   \n",
       "349641  -72.1631  67.3456 -70.2626  75.0568   \n",
       "1834148 -73.4731  64.8826 -71.5983  73.2477   \n",
       "1834149 -74.7588  62.0524 -72.9162  71.1638   \n",
       "\n",
       "                                              download_url  \n",
       "349640   https://s3-us-west-2.amazonaws.com/landsat-pds...  \n",
       "349641   https://s3-us-west-2.amazonaws.com/landsat-pds...  \n",
       "1834148  https://s3-us-west-2.amazonaws.com/landsat-pds...  \n",
       "1834149  https://s3-us-west-2.amazonaws.com/landsat-pds...  "
      ]
     },
     "execution_count": 17,
     "metadata": {},
     "output_type": "execute_result"
    }
   ],
   "source": [
    "bulk_frame = pd.concat(bulk_list, 1).T\n",
    "bulk_frame"
   ]
  },
  {
   "cell_type": "code",
   "execution_count": null,
   "metadata": {},
   "outputs": [],
   "source": [
    "conda install bs4"
   ]
  },
  {
   "cell_type": "code",
   "execution_count": null,
   "metadata": {},
   "outputs": [],
   "source": [
    "# Import requests and beautiful soup\n",
    "import requests\n",
    "from bs4 import BeautifulSoup\n",
    "\n",
    "# For each row\n",
    "for i, row in bulk_frame.iterrows():\n",
    "\n",
    "    # Print some the product ID\n",
    "    print('\\n', 'EntityId:', row.productId, '\\n')\n",
    "    print(' Checking content: ', '\\n')\n",
    "\n",
    "    # Request the html text of the download_url from the amazon server. \n",
    "    # download_url example: https://landsat-pds.s3.amazonaws.com/c1/L8/139/045/LC08_L1TP_139045_20170304_20170316_01_T1/index.html\n",
    "    response = requests.get(row.download_url)\n",
    "\n",
    "    # If the response status code is fine (200)\n",
    "    if response.status_code == 200:\n",
    "\n",
    "        # Import the html to beautiful soup\n",
    "        html = BeautifulSoup(response.content, 'html.parser')\n",
    "\n",
    "        # Create the dir where we will put this image files.\n",
    "        entity_dir = os.path.join(LANDSAT_PATH, row.productId)\n",
    "        os.makedirs(entity_dir, exist_ok=True)\n",
    "\n",
    "        # Second loop: for each band of this image that we find using the html <li> tag\n",
    "        for li in html.find_all('li'):\n",
    "\n",
    "            # Get the href tag\n",
    "            file = li.find_next('a').get('href')\n",
    "\n",
    "            print('  Downloading: {}'.format(file))\n",
    "\n",
    "            # Download the files\n",
    "            # code from: https://stackoverflow.com/a/18043472/5361345\n",
    "\n",
    "            response = requests.get(row.download_url.replace('index.html', file), stream=True)\n",
    "\n",
    "            with open(os.path.join(entity_dir, file), 'wb') as output:\n",
    "                shutil.copyfileobj(response.raw, output)\n",
    "            del response"
   ]
  },
  {
   "cell_type": "markdown",
   "metadata": {},
   "source": [
    "### Using the lake detection algorithm of Moussavi et al. (2020), we iterate through the Landsat images and extract lake boundaries."
   ]
  },
  {
   "cell_type": "code",
   "execution_count": null,
   "metadata": {},
   "outputs": [],
   "source": [
    "LakeMasks = {}\n",
    "pi = np.pi\n",
    "for df_index, row in bulk_frame.head().iterrows():\n",
    "    mtl_path = str('L8_data/external/Landsat8/'+bulk_frame.productId[df_index]+'/'+bulk_frame.productId[df_index]+'_MTL.txt')\n",
    "    mtl_var = {}\n",
    "    with open(mtl_path) as MTL:\n",
    "        for line in MTL:\n",
    "            name, var = line.partition(\"=\")[::2]\n",
    "            mtl_var[name.strip()] = var\n",
    "\n",
    "    B2 = xr.open_rasterio(str('L8_data/external/Landsat8/'+bulk_frame.productId[df_index]+'/'+bulk_frame.productId[df_index]+'_B2.TIF'))\n",
    "    B2 = ((B2*float(mtl_var['REFLECTANCE_MULT_BAND_2']))+float(mtl_var['REFLECTANCE_ADD_BAND_2'])/np.sin(float(mtl_var['SUN_ELEVATION'])* pi / 180)) * 10000; #DN to TOA reflectance conversion\n",
    "\n",
    "    B3 = xr.open_rasterio(str('L8_data/external/Landsat8/'+bulk_frame.productId[df_index]+'/'+bulk_frame.productId[df_index]+'_B3.TIF'))\n",
    "    B3 = ((B2*float(mtl_var['REFLECTANCE_MULT_BAND_3']))+float(mtl_var['REFLECTANCE_ADD_BAND_3'])/np.sin(float(mtl_var['SUN_ELEVATION'])* pi / 180))* 10000; #DN to TOA reflectance conversion\n",
    "\n",
    "    B4 = xr.open_rasterio(str('L8_data/external/Landsat8/'+bulk_frame.productId[df_index]+'/'+bulk_frame.productId[df_index]+'_B4.TIF'))\n",
    "    B4 = ((B2*float(mtl_var['REFLECTANCE_MULT_BAND_4']))+float(mtl_var['REFLECTANCE_ADD_BAND_4'])/np.sin(float(mtl_var['SUN_ELEVATION'])* pi / 180))* 10000; #DN to TOA reflectance conversion\n",
    "\n",
    "    B6 = xr.open_rasterio(str('L8_data/external/Landsat8/'+bulk_frame.productId[df_index]+'/'+bulk_frame.productId[df_index]+'_B6.TIF'))\n",
    "    B6 = ((B2*float(mtl_var['REFLECTANCE_MULT_BAND_6']))+float(mtl_var['REFLECTANCE_ADD_BAND_6'])/np.sin(float(mtl_var['SUN_ELEVATION'])* pi / 180))* 10000; #DN to TOA reflectance conversion\n",
    "\n",
    "    B10 = xr.open_rasterio(str('L8_data/external/Landsat8/'+bulk_frame.productId[df_index]+'/'+bulk_frame.productId[df_index]+'_B10.TIF'))\n",
    "    B10 = ((B2*float(mtl_var['RADIANCE_MULT_BAND_10']))+float(mtl_var['RADIANCE_ADD_BAND_10'])/np.sin(float(mtl_var['SUN_ELEVATION'])* pi / 180))* 10000; #DN to TOA reflectance conversion\n",
    "    B10=  float(mtl_var['K2_CONSTANT_BAND_10'])/np.log((float(mtl_var['K1_CONSTANT_BAND_10'])/B10)+1) * 10;\n",
    "\n",
    "    # Calculation of NDWI\n",
    "    NDWI = (B2-B4)/(B2+B4); # This is NDWI\n",
    "    NDWI = NDWI*1000;\n",
    "\n",
    "\n",
    "    # Calculation of NDSI\n",
    "\n",
    "    NDSI = (B3-B6)/(B3+B6); # This is NDSI\n",
    "    NDSI = NDSI*1000;\n",
    "\n",
    "\n",
    "    # Calculation of TIRS/Blue\n",
    "\n",
    "    TIRS_Blue= B10/B2; #This is TIRS/Blue \n",
    "    TIRS_Blue = TIRS_Blue*1000;\n",
    "\n",
    "\n",
    "    # Rock outcrop/Seawater Masking\n",
    "    rock_mask = np.zeros(B4.shape);\n",
    "    rock_mask =np.int_(rock_mask);\n",
    "    index = np.bitwise_and(np.bitwise_and(TIRS_Blue > 6500, B4 > 0), B2 <3500)\n",
    "    rock_mask[index.values]=1;  #B4 filtering --> to avoid including image borders\n",
    "\n",
    "    # Cloud Masking\n",
    "    cloud_mask = np.zeros(B4.shape);\n",
    "    cloud_mask = np.int_(cloud_mask);\n",
    "    index = np.bitwise_and(np.bitwise_and(B6 > 1000 , NDSI < 8000),np.bitwise_and(B2 >6000 , B2 < 9500))\n",
    "    cloud_mask[index.values] = 1;\n",
    "\n",
    "\n",
    "    # Lake Masking\n",
    "    lake_mask = np.zeros(B4.shape);\n",
    "    lake_mask = np.int_(lake_mask);\n",
    "    index = np.bitwise_and(np.bitwise_and(NDWI > 1900 ,(B3-B4)> 700), (B2-B3)>700)\n",
    "    lake_mask[index.values] = 1; \n",
    "    lake_mask[rock_mask==1]=0;\n",
    "    lake_mask[cloud_mask==1]=0;\n",
    "\n",
    "\n",
    "    #writing to xarray\n",
    "    LakeMasks[df_index] = lake_mask"
   ]
  },
  {
   "cell_type": "code",
   "execution_count": 18,
   "metadata": {
    "jupyter": {
     "source_hidden": true
    }
   },
   "outputs": [],
   "source": [
    "df_index = 349641\n",
    "pi=np.pi\n",
    "mtl_path = str('L8_data/external/Landsat8/'+bulk_frame.productId[df_index]+'/'+bulk_frame.productId[df_index]+'_MTL.txt')\n",
    "mtl_var = {}\n",
    "with open(mtl_path) as MTL:\n",
    "    for line in MTL:\n",
    "        name, var = line.partition(\"=\")[::2]\n",
    "        mtl_var[name.strip()] = var\n",
    "\n",
    "B2 = xr.open_rasterio(str('L8_data/external/Landsat8/'+bulk_frame.productId[df_index]+'/'+bulk_frame.productId[df_index]+'_B2.TIF'))\n",
    "B2 = ((B2*float(mtl_var['REFLECTANCE_MULT_BAND_2']))+float(mtl_var['REFLECTANCE_ADD_BAND_2'])/np.sin(float(mtl_var['SUN_ELEVATION'])* pi / 180)) * 10000; #DN to TOA reflectance conversion\n",
    "\n",
    "B3 = xr.open_rasterio(str('L8_data/external/Landsat8/'+bulk_frame.productId[df_index]+'/'+bulk_frame.productId[df_index]+'_B3.TIF'))\n",
    "B3 = ((B2*float(mtl_var['REFLECTANCE_MULT_BAND_3']))+float(mtl_var['REFLECTANCE_ADD_BAND_3'])/np.sin(float(mtl_var['SUN_ELEVATION'])* pi / 180))* 10000; #DN to TOA reflectance conversion\n",
    "\n",
    "B4 = xr.open_rasterio(str('L8_data/external/Landsat8/'+bulk_frame.productId[df_index]+'/'+bulk_frame.productId[df_index]+'_B4.TIF'))\n",
    "B4 = ((B2*float(mtl_var['REFLECTANCE_MULT_BAND_4']))+float(mtl_var['REFLECTANCE_ADD_BAND_4'])/np.sin(float(mtl_var['SUN_ELEVATION'])* pi / 180))* 10000; #DN to TOA reflectance conversion\n",
    "\n",
    "B6 = xr.open_rasterio(str('L8_data/external/Landsat8/'+bulk_frame.productId[df_index]+'/'+bulk_frame.productId[df_index]+'_B6.TIF'))\n",
    "B6 = ((B2*float(mtl_var['REFLECTANCE_MULT_BAND_6']))+float(mtl_var['REFLECTANCE_ADD_BAND_6'])/np.sin(float(mtl_var['SUN_ELEVATION'])* pi / 180))* 10000; #DN to TOA reflectance conversion\n",
    "\n",
    "B10 = xr.open_rasterio(str('L8_data/external/Landsat8/'+bulk_frame.productId[df_index]+'/'+bulk_frame.productId[df_index]+'_B10.TIF'))\n",
    "B10 = ((B2*float(mtl_var['RADIANCE_MULT_BAND_10']))+float(mtl_var['RADIANCE_ADD_BAND_10'])/np.sin(float(mtl_var['SUN_ELEVATION'])* pi / 180))* 10000; #DN to TOA reflectance conversion\n",
    "B10=  float(mtl_var['K2_CONSTANT_BAND_10'])/np.log((float(mtl_var['K1_CONSTANT_BAND_10'])/B10)+1) * 10;\n",
    "\n",
    "# Calculation of NDWI\n",
    "NDWI = (B2-B4)/(B2+B4); # This is NDWI\n",
    "NDWI = NDWI*1000;\n",
    "\n",
    "\n",
    "# Calculation of NDSI\n",
    "\n",
    "NDSI = (B3-B6)/(B3+B6); # This is NDSI\n",
    "NDSI = NDSI*1000;\n",
    "\n",
    "\n",
    "# Calculation of TIRS/Blue\n",
    "\n",
    "TIRS_Blue= B10/B2; #This is TIRS/Blue \n",
    "TIRS_Blue = TIRS_Blue*1000;\n",
    "\n",
    "\n",
    "# Rock outcrop/Seawater Masking\n",
    "rock_mask = np.zeros(B4.shape);\n",
    "rock_mask =np.int_(rock_mask);\n",
    "index = np.bitwise_and(np.bitwise_and(TIRS_Blue > 6500, B4 > 0), B2 <3500)\n",
    "rock_mask[index.values]=1;  #B4 filtering --> to avoid including image borders\n",
    "\n",
    "# Cloud Masking\n",
    "cloud_mask = np.zeros(B4.shape);\n",
    "cloud_mask = np.int_(cloud_mask);\n",
    "index = np.bitwise_and(np.bitwise_and(B6 > 1000 , NDSI < 8000),np.bitwise_and(B2 >6000 , B2 < 9500))\n",
    "cloud_mask[index.values] = 1;\n",
    "\n",
    "\n",
    "# Lake Masking\n",
    "lake_mask = np.zeros(B4.shape);\n",
    "lake_mask = np.int_(lake_mask);\n",
    "index = np.bitwise_and(np.bitwise_and(NDWI > 1900 ,(B3-B4)> 700), (B2-B3)>700)\n",
    "lake_mask[index.values] = 1; \n",
    "lake_mask[rock_mask==1]=0;\n",
    "lake_mask[cloud_mask==1]=0;"
   ]
  }
 ],
 "metadata": {
  "kernelspec": {
   "display_name": "Python 3",
   "language": "python",
   "name": "python3"
  },
  "language_info": {
   "codemirror_mode": {
    "name": "ipython",
    "version": 3
   },
   "file_extension": ".py",
   "mimetype": "text/x-python",
   "name": "python",
   "nbconvert_exporter": "python",
   "pygments_lexer": "ipython3",
   "version": "3.7.6"
  }
 },
 "nbformat": 4,
 "nbformat_minor": 4
}
